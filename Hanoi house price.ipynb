{
 "cells": [
  {
   "cell_type": "markdown",
   "metadata": {},
   "source": [
    "Part 1: Crawl data from most popular websites in Vietnam for house price data\n",
    "- house price\n",
    "- number of rooms\n",
    "- house area\n",
    "- district\n",
    "- type: house, apartment, shared room.\n",
    "Total amount of data (house) to be gathered is 1000.\n",
    "Sites to be crawl: alonhadat, batdongsan, homedy.\n",
    "\n",
    "Part 2: Upload data to Google Cloud Platform for storage"
   ]
  },
  {
   "cell_type": "markdown",
   "metadata": {},
   "source": [
    "1. Crawl data from Alonhadat\n",
    "- Crawl data for \"Apartment\" type"
   ]
  },
  {
   "cell_type": "code",
   "execution_count": 8,
   "metadata": {},
   "outputs": [
    {
     "name": "stdout",
     "output_type": "stream",
     "text": [
      "Requirement already up-to-date: lxml in /anaconda3/lib/python3.6/site-packages (4.4.2)\n",
      "\u001b[31mspyder-kernels 1.4.0 requires wurlitzer, which is not installed.\u001b[0m\n",
      "\u001b[33mYou are using pip version 10.0.1, however version 19.3.1 is available.\n",
      "You should consider upgrading via the 'pip install --upgrade pip' command.\u001b[0m\n"
     ]
    }
   ],
   "source": [
    "!pip install --upgrade lxml"
   ]
  },
  {
   "cell_type": "code",
   "execution_count": 9,
   "metadata": {},
   "outputs": [],
   "source": [
    "from bs4 import BeautifulSoup\n",
    "import requests\n",
    "import urllib.request\n",
    "import re\n",
    "import csv"
   ]
  },
  {
   "cell_type": "code",
   "execution_count": 10,
   "metadata": {},
   "outputs": [
    {
     "ename": "SyntaxError",
     "evalue": "invalid syntax (<ipython-input-10-f42e22526b33>, line 45)",
     "output_type": "error",
     "traceback": [
      "\u001b[0;36m  File \u001b[0;32m\"<ipython-input-10-f42e22526b33>\"\u001b[0;36m, line \u001b[0;32m45\u001b[0m\n\u001b[0;31m    try:\u001b[0m\n\u001b[0m      ^\u001b[0m\n\u001b[0;31mSyntaxError\u001b[0m\u001b[0;31m:\u001b[0m invalid syntax\n"
     ]
    }
   ],
   "source": [
    "properties = []\n",
    "\n",
    "for m in range(1,4):\n",
    "    url = 'https://alonhadat.com.vn/nha-dat/cho-thue/can-ho-chung-cu/1/ha-noi/trang--{}.html'.format(m)\n",
    "    page_content = urllib.request.urlopen(url)\n",
    "    rawdata = page_content.read()\n",
    "    webpage_text = rawdata.decode('utf-8')\n",
    "\n",
    "    soup = BeautifulSoup(webpage_text, 'lxml')\n",
    "    items = soup.find_all('div', 'content-item')\n",
    "\n",
    "# Get the name, area of the property\n",
    "\n",
    "    for i in items:\n",
    "        t = i.findChildren('div', class_='ct_title')\n",
    "        title = t[0].a.string\n",
    "        a = i.find_all('div','ct_dt')\n",
    "        size = a[0].label.next_element.next_element.string\n",
    "        try:\n",
    "            b = i.find_all('div', class_='characteristics')\n",
    "            bedroom = b[0].find('span','bedroom').string\n",
    "        except:\n",
    "            pass\n",
    "        p = i.find_all('div','ct_price')\n",
    "        price = p[0].label.next_element.next_element.string\n",
    "        d = i.find_all('div','ct_dis')\n",
    "        district = d[0].a.next_element.next_element.next_element.next_element.next_element.next_element.string\n",
    "        street = d[0].a.string\n",
    "        area = d[0].a.next_element.next_element.next_element.string\n",
    "            \n",
    "        property ={\n",
    "            'name': title,\n",
    "            'square_meter': size,\n",
    "            'bedroom_no': bedroom,\n",
    "            'price': price,\n",
    "            'street': street,\n",
    "            'area': area,\n",
    "            'district': district,\n",
    "        }\n",
    "        properties.append(property)\n",
    "        \n",
    "try:\n",
    "    with open('alonhadat.csv', 'w') as output_file:\n",
    "        keys = properties[0].keys()\n",
    "        writer = csv.DictWriter(output_file, fieldnames=keys)\n",
    "        writer.writeheader()\n",
    "        for property in properties:\n",
    "            writer.writerow(property)\n",
    "    print('Success')\n",
    "except:\n",
    "    print('Error')\n",
    "        \n",
    "\n",
    "    \n"
   ]
  },
  {
   "cell_type": "code",
   "execution_count": 5,
   "metadata": {},
   "outputs": [
    {
     "ename": "SyntaxError",
     "evalue": "unexpected EOF while parsing (<ipython-input-5-dd58b4ddc4b2>, line 2)",
     "output_type": "error",
     "traceback": [
      "\u001b[0;36m  File \u001b[0;32m\"<ipython-input-5-dd58b4ddc4b2>\"\u001b[0;36m, line \u001b[0;32m2\u001b[0m\n\u001b[0;31m    \u001b[0m\n\u001b[0m    ^\u001b[0m\n\u001b[0;31mSyntaxError\u001b[0m\u001b[0;31m:\u001b[0m unexpected EOF while parsing\n"
     ]
    }
   ],
   "source": [
    "    "
   ]
  },
  {
   "cell_type": "code",
   "execution_count": null,
   "metadata": {},
   "outputs": [],
   "source": [
    "\n",
    "            "
   ]
  },
  {
   "cell_type": "code",
   "execution_count": null,
   "metadata": {},
   "outputs": [],
   "source": []
  }
 ],
 "metadata": {
  "kernelspec": {
   "display_name": "Python 3",
   "language": "python",
   "name": "python3"
  },
  "language_info": {
   "codemirror_mode": {
    "name": "ipython",
    "version": 3
   },
   "file_extension": ".py",
   "mimetype": "text/x-python",
   "name": "python",
   "nbconvert_exporter": "python",
   "pygments_lexer": "ipython3",
   "version": "3.6.8"
  }
 },
 "nbformat": 4,
 "nbformat_minor": 2
}
